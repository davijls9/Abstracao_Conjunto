{
 "cells": [
  {
   "cell_type": "markdown",
   "metadata": {},
   "source": [
    "# Operações de conjuntos a nivel de abstração de codigo\n",
    "\n",
    "**Autor:** Davi J. Leite Santos  \n",
    "**Versão:** 0.1.2  \n",
    "**Data:** 24 de Maio de 2024  \n",
    "**Localização:** Carapicuiba, São paulo - Brasil  \n",
    "\n",
    "## Contato\n",
    "- 🏠 **Endereço:** Ribeirão das Neves, Minas Gerais - Brasil\n",
    "- 📧 **Email:** davi.jls@outlook.com\n",
    "- 🌐 **LinkedIn:** davi-j-leite-santos\n",
    "- 🌐 **Website:** davijls.com.br\n",
    "\n",
    "## Principais Competências\n",
    "- **Cibersegurança**\n",
    "- **Segurança da Informação**\n",
    "- **Operações de TI**"
   ]
  },
  {
   "cell_type": "markdown",
   "metadata": {},
   "source": [
    "# Importações das abstrações"
   ]
  },
  {
   "cell_type": "code",
   "execution_count": 1,
   "metadata": {},
   "outputs": [],
   "source": [
    "from abc import ABC, abstractmethod"
   ]
  },
  {
   "cell_type": "markdown",
   "metadata": {},
   "source": [
    "# Classe de conjuntos\n",
    "\n",
    "## Conjunto\n",
    "\n",
    "*Intersecao*: Esse método calcula a interseção de dois conjuntos, ou seja, retorna os elementos que são comuns a ambos os conjuntos.\n",
    "\n",
    "*Uniao*: Esse método calcula a união de dois conjuntos, ou seja, retorna todos os elementos que estão em pelo menos um dos conjuntos.\n",
    "\n",
    "*Diferenca*: Esse método calcula a diferença entre dois conjuntos, ou seja, retorna os elementos que estão no primeiro conjunto, mas não no segundo.\n",
    "\n",
    "*Negacao_intersecao*: Esse método calcula a negação da interseção de dois conjuntos, também conhecida como diferença simétrica, que retorna os elementos que estão em um conjunto ou no outro, mas não em ambos."
   ]
  },
  {
   "cell_type": "code",
   "execution_count": 2,
   "metadata": {},
   "outputs": [],
   "source": [
    "# Classe base abstrata para Conjunto\n",
    "class Conjunto(ABC):\n",
    "    \n",
    "    @abstractmethod\n",
    "    def intersecao(self, outro):\n",
    "        pass\n",
    "    \n",
    "    @abstractmethod\n",
    "    def uniao(self, outro):\n",
    "        pass\n",
    "    \n",
    "    @abstractmethod\n",
    "    def diferenca(self, outro):\n",
    "        pass\n",
    "    \n",
    "    @abstractmethod\n",
    "    def negacao_intersecao(self, outro):\n",
    "        pass"
   ]
  },
  {
   "cell_type": "markdown",
   "metadata": {},
   "source": [
    "# Sub-Classe para conjuntos representados como lista\n",
    "\n",
    "## ConjuntoLista\n",
    "\n",
    "*Intersecao*: Implementa a interseção usando o método intersection do conjunto (set), retornando os elementos comuns entre self.elementos e outro.elementos.\n",
    "\n",
    "*Uniao*: Implementa a união usando o método union do conjunto, retornando todos os elementos que estão em self.elementos ou outro.elementos.\n",
    "\n",
    "*Diferenca*: Implementa a diferença usando o método difference do conjunto, retornando os elementos que estão em self.elementos mas não em outro.elementos.\n",
    "\n",
    "*Negacao_intersecao*: Implementa a diferença simétrica usando o método symmetric_difference do conjunto, retornando os elementos que estão em um dos conjuntos mas não em ambos."
   ]
  },
  {
   "cell_type": "code",
   "execution_count": 3,
   "metadata": {},
   "outputs": [],
   "source": [
    "# Subclasse para Conjuntos representados como listas\n",
    "class ConjuntoLista(Conjunto):\n",
    "    \n",
    "    def __init__(self, elementos):\n",
    "        self.elementos = set(elementos)\n",
    "    \n",
    "    def intersecao(self, outro):\n",
    "        return self.elementos.intersection(outro.elementos)\n",
    "    \n",
    "    def uniao(self, outro):\n",
    "        return self.elementos.union(outro.elementos)\n",
    "    \n",
    "    def diferenca(self, outro):\n",
    "        return self.elementos.difference(outro.elementos)\n",
    "    \n",
    "    def negacao_intersecao(self, outro):\n",
    "        return self.elementos.symmetric_difference(outro.elementos)"
   ]
  },
  {
   "cell_type": "markdown",
   "metadata": {},
   "source": [
    "# Subclasse para Conjuntos representados como dicionários\n",
    "\n",
    "## ConjuntoDict\n",
    "\n",
    "*Intersecao*: Implementa a interseção usando o método intersection do conjunto, mas os elementos são extraídos das chaves do dicionário.\n",
    "\n",
    "![iNTERSEÇÃO](./Teoria/INTERSECAO.png)\n",
    "\n",
    "*Uniao*: Implementa a união usando o método union do conjunto, onde as chaves do dicionário são usadas como elementos.\n",
    "\n",
    "![UNIÃO](./Teoria/UNIAO.png)\n",
    "\n",
    "*Diferenca*: Implementa a diferença usando o método difference do conjunto, onde as chaves do dicionário são comparadas.\n",
    "\n",
    "![DIFERENÇA](./Teoria/DIFERENCA.png)\n",
    "\n",
    "*Negacao_intersecao*: Implementa a diferença simétrica usando o método symmetric_difference do conjunto, onde a operação é realizada sobre as chaves do dicionário.\n",
    "\n",
    "![DIFERENÇA DA INTERSEÇÃO](./Teoria/DIFERENCA_DA_INTERSECAO.png)"
   ]
  },
  {
   "cell_type": "code",
   "execution_count": 4,
   "metadata": {},
   "outputs": [],
   "source": [
    "# Subclasse para Conjuntos representados como dicionários (chaves representam elementos)\n",
    "class ConjuntoDict(Conjunto):\n",
    "    \n",
    "    def __init__(self, elementos):\n",
    "        self.elementos = set(elementos.keys())\n",
    "    \n",
    "    def intersecao(self, outro):\n",
    "        return self.elementos.intersection(outro.elementos)\n",
    "    \n",
    "    def uniao(self, outro):\n",
    "        return self.elementos.union(outro.elementos)\n",
    "    \n",
    "    def diferenca(self, outro):\n",
    "        return self.elementos.difference(outro.elementos)\n",
    "    \n",
    "    def negacao_intersecao(self, outro):\n",
    "        return self.elementos.symmetric_difference(outro.elementos)"
   ]
  },
  {
   "cell_type": "markdown",
   "metadata": {},
   "source": [
    "# Funções de filtro que aplica a operação especificada\n",
    "\n",
    "Essa função externa recebe dois conjuntos e o nome da operação a ser realizada. Ela utiliza um dicionário para mapear o nome da operação ao método correspondente, aplicando a operação especificada e retornando o resultado."
   ]
  },
  {
   "cell_type": "code",
   "execution_count": 5,
   "metadata": {},
   "outputs": [],
   "source": [
    "# Função filtro que aplica a operação especificada\n",
    "def aplicar_operacao(conjunto1, conjunto2, operacao):\n",
    "    operacoes = {\n",
    "        'intersecao': conjunto1.intersecao,\n",
    "        'uniao': conjunto1.uniao,\n",
    "        'diferenca': conjunto1.diferenca,\n",
    "        'negacao_intersecao': conjunto1.negacao_intersecao\n",
    "    }\n",
    "    \n",
    "    if operacao in operacoes:\n",
    "        return operacoes[operacao](conjunto2)\n",
    "    else:\n",
    "        raise ValueError(f\"Operação {operacao} não é válida.\")"
   ]
  },
  {
   "cell_type": "markdown",
   "metadata": {},
   "source": [
    "# Utilizando "
   ]
  },
  {
   "cell_type": "code",
   "execution_count": 6,
   "metadata": {},
   "outputs": [],
   "source": [
    "# Exemplos de uso\n",
    "conj_lista1 = ConjuntoLista([1, 2, 3, 4])\n",
    "conj_lista2 = ConjuntoLista([3, 4, 5, 6])\n",
    "\n",
    "conj_dict1 = ConjuntoDict({1: True, 2: True, 3: True, 4: True})\n",
    "conj_dict2 = ConjuntoDict({3: True, 4: True, 5: True, 6: True})"
   ]
  },
  {
   "cell_type": "code",
   "execution_count": 7,
   "metadata": {},
   "outputs": [
    {
     "name": "stdout",
     "output_type": "stream",
     "text": [
      "Interseção (Lista): {3, 4}\n",
      "União (Lista): {1, 2, 3, 4, 5, 6}\n",
      "Diferença (Lista): {1, 2}\n",
      "Negação da Interseção (Lista): {1, 2, 5, 6}\n"
     ]
    }
   ],
   "source": [
    "# Aplicando operações usando a função filtro\n",
    "print(\"Interseção (Lista):\", aplicar_operacao(conj_lista1, conj_lista2, 'intersecao'))\n",
    "print(\"União (Lista):\", aplicar_operacao(conj_lista1, conj_lista2, 'uniao'))\n",
    "print(\"Diferença (Lista):\", aplicar_operacao(conj_lista1, conj_lista2, 'diferenca'))\n",
    "print(\"Negação da Interseção (Lista):\", aplicar_operacao(conj_lista1, conj_lista2, 'negacao_intersecao'))\n"
   ]
  },
  {
   "cell_type": "code",
   "execution_count": 8,
   "metadata": {},
   "outputs": [
    {
     "name": "stdout",
     "output_type": "stream",
     "text": [
      "Interseção (Dict): {3, 4}\n",
      "União (Dict): {1, 2, 3, 4, 5, 6}\n",
      "Diferença (Dict): {1, 2}\n",
      "Negação da Interseção (Dict): {1, 2, 5, 6}\n"
     ]
    }
   ],
   "source": [
    "\n",
    "print(\"Interseção (Dict):\", aplicar_operacao(conj_dict1, conj_dict2, 'intersecao'))\n",
    "print(\"União (Dict):\", aplicar_operacao(conj_dict1, conj_dict2, 'uniao'))\n",
    "print(\"Diferença (Dict):\", aplicar_operacao(conj_dict1, conj_dict2, 'diferenca'))\n",
    "print(\"Negação da Interseção (Dict):\", aplicar_operacao(conj_dict1, conj_dict2, 'negacao_intersecao'))"
   ]
  },
  {
   "cell_type": "markdown",
   "metadata": {},
   "source": [
    "# Explicação:\n",
    "\n",
    "Nesse código, temos uma classe abstrata 'Conjunto' que define métodos abstratos para interseção, união, diferença e negação da interseção. As classes 'ConjuntoLista' e 'ConjuntoDict' implementam esses métodos, permitindo trabalhar com conjuntos representados como listas ou dicionários.\n",
    "\n",
    "A função 'aplicar_operacao' atua como um filtro, aplicando a operação especificada aos conjuntos fornecidos, demonstrando o uso de polimorfismo ao chamar métodos específicos de acordo com a classe das instâncias fornecidas."
   ]
  },
  {
   "cell_type": "markdown",
   "metadata": {},
   "source": []
  }
 ],
 "metadata": {
  "kernelspec": {
   "display_name": "Python 3",
   "language": "python",
   "name": "python3"
  },
  "language_info": {
   "codemirror_mode": {
    "name": "ipython",
    "version": 3
   },
   "file_extension": ".py",
   "mimetype": "text/x-python",
   "name": "python",
   "nbconvert_exporter": "python",
   "pygments_lexer": "ipython3",
   "version": "3.11.4"
  }
 },
 "nbformat": 4,
 "nbformat_minor": 2
}
